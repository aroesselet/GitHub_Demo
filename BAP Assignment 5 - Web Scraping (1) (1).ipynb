{
 "cells": [
  {
   "cell_type": "markdown",
   "metadata": {},
   "source": [
    "# Assignment 5\n",
    "The following assignment relies heavily on the content covered in the week 5 notes.  Many of the operations you are asked to do here resemble those we went over in class.  Please make sure to reference lesson 5.1 and especially lesson 5.2 notes to guide you through these exercises.  You will need to examine the page:  https://www.marketwatch.com/investing/stock/aapl to understand the structure (tags, classes).  \n",
    "#### Documentation\n",
    "[requests library](http://docs.python-requests.org/en/master/)  \n",
    "[beautifulsoup library](https://www.crummy.com/software/BeautifulSoup/bs4/doc/)  "
   ]
  },
  {
   "cell_type": "markdown",
   "metadata": {},
   "source": [
    "### Problem 1\n",
    "The following is a method we can use to open a file called data_file.txt. "
   ]
  },
  {
   "cell_type": "markdown",
   "metadata": {},
   "source": [
    "a. Turn the following code into a try and except block printing our an informative message when the file doesn't open (which it won't).\n",
    "```\n",
    "with open('data_file.txt') as data:\n",
    "    read_data = data.read()\n",
    "```"
   ]
  },
  {
   "cell_type": "code",
   "execution_count": 36,
   "metadata": {},
   "outputs": [
    {
     "name": "stdout",
     "output_type": "stream",
     "text": [
      "Could not open file\n"
     ]
    }
   ],
   "source": [
    "# code here\n",
    "try:\n",
    "    data = open('data_file.txt')\n",
    "\n",
    "    \n",
    "except IOError:\n",
    "    print('Could not open file')\n",
    "\n",
    "    \n",
    "# returns: Could not open data_file.txt"
   ]
  },
  {
   "cell_type": "markdown",
   "metadata": {},
   "source": [
    "b.  Briefly desribe the importance of handling exceptions in programming. "
   ]
  },
  {
   "cell_type": "markdown",
   "metadata": {},
   "source": [
    "Answer:  "
   ]
  },
  {
   "cell_type": "markdown",
   "metadata": {},
   "source": [
    "The rest of this assignment will rely on the following libraries.  You will need to import them again as part of your functions. "
   ]
  },
  {
   "cell_type": "code",
   "execution_count": null,
   "metadata": {},
   "outputs": [],
   "source": [
    "#Packages\n",
    "#Web scraping packages\n",
    "from bs4 import BeautifulSoup\n",
    "import requests\n",
    "#Pandas for data manipulation\n",
    "import pandas as pd"
   ]
  },
  {
   "cell_type": "markdown",
   "metadata": {},
   "source": [
    "### Problem 2\n",
    "This problem is all about web-scraping with requests and BeautifulSoup.  "
   ]
  },
  {
   "cell_type": "markdown",
   "metadata": {},
   "source": [
    "a.  Run a get request to url=\"https://www.marketwatch.com/investing/stock/\"+\"aapl\" and store the object returned as 'response'.  If the status code is not 200, print \"request not successful\"."
   ]
  },
  {
   "cell_type": "code",
   "execution_count": 8,
   "metadata": {},
   "outputs": [
    {
     "name": "stdout",
     "output_type": "stream",
     "text": [
      "200\n"
     ]
    }
   ],
   "source": [
    "from bs4 import BeautifulSoup\n",
    "import requests\n",
    "# Define the url\n",
    "url=\"https://www.marketwatch.com/investing/stock/\"+\"aapl\"\n",
    "# create the response from the get request\n",
    "response=requests.get(url)\n",
    "if not response.status_code ==200:\n",
    "    print('Request not successful')\n",
    "print(response.status_code)\n",
    "\n",
    "\n"
   ]
  },
  {
   "cell_type": "markdown",
   "metadata": {},
   "source": [
    "b.  Referencing the above response, create BeautifulSoup object called \"results_page\" parsed with 'lxml'."
   ]
  },
  {
   "cell_type": "code",
   "execution_count": 9,
   "metadata": {},
   "outputs": [],
   "source": [
    "# build the BeautifulSoup object and name it results_page\n",
    "results_page = BeautifulSoup(response.content,'lxml')\n"
   ]
  },
  {
   "cell_type": "markdown",
   "metadata": {},
   "source": [
    "c.  On the webpage:  https://www.marketwatch.com/investing/stock/aapl, for the section called \"Key Data\". Inspect the page and verify that the tag/class combination that uniquely identifies each of the items in this table is 'li'/'kv_item'.  Find all elements identified by a tag of 'li' and a class_='kv_item'.  "
   ]
  },
  {
   "cell_type": "code",
   "execution_count": 18,
   "metadata": {},
   "outputs": [
    {
     "name": "stdout",
     "output_type": "stream",
     "text": [
      "[<li class=\"kv__item\">\n",
      "<small class=\"kv__label\">Open</small>\n",
      "<span class=\"kv__value kv__primary\">$233.37</span>\n",
      "<span class=\"kv__value kv__secondary no-value\"></span>\n",
      "</li>, <li class=\"kv__item\">\n",
      "<small class=\"kv__label\">Day Range</small>\n",
      "<span class=\"kv__value kv__primary\">233.20 - 235.24</span>\n",
      "<span class=\"kv__value kv__secondary no-value\"></span>\n",
      "</li>, <li class=\"kv__item\">\n",
      "<small class=\"kv__label\">52 Week Range</small>\n",
      "<span class=\"kv__value kv__primary\">142.00 - 238.13</span>\n",
      "<span class=\"kv__value kv__secondary no-value\"></span>\n",
      "</li>, <li class=\"kv__item\">\n",
      "<small class=\"kv__label\">Market Cap</small>\n",
      "<span class=\"kv__value kv__primary\">$1.06T</span>\n",
      "<span class=\"kv__value kv__secondary no-value\"></span>\n",
      "</li>, <li class=\"kv__item\">\n",
      "<small class=\"kv__label\">Shares Outstanding</small>\n",
      "<span class=\"kv__value kv__primary\">4.6B</span>\n",
      "<span class=\"kv__value kv__secondary no-value\"></span>\n",
      "</li>, <li class=\"kv__item\">\n",
      "<small class=\"kv__label\">Public Float</small>\n",
      "<span class=\"kv__value kv__primary\">4.51B</span>\n",
      "<span class=\"kv__value kv__secondary no-value\"></span>\n",
      "</li>, <li class=\"kv__item\">\n",
      "<small class=\"kv__label\">Beta</small>\n",
      "<span class=\"kv__value kv__primary\">1.24</span>\n",
      "<span class=\"kv__value kv__secondary no-value\"></span>\n",
      "</li>, <li class=\"kv__item\">\n",
      "<small class=\"kv__label\">Rev. per Employee</small>\n",
      "<span class=\"kv__value kv__primary\">$1.98M</span>\n",
      "<span class=\"kv__value kv__secondary no-value\"></span>\n",
      "</li>, <li class=\"kv__item\">\n",
      "<small class=\"kv__label\">P/E Ratio</small>\n",
      "<span class=\"kv__value kv__primary\">19.95</span>\n",
      "<span class=\"kv__value kv__secondary no-value\"></span>\n",
      "</li>, <li class=\"kv__item\">\n",
      "<small class=\"kv__label\">EPS</small>\n",
      "<span class=\"kv__value kv__primary\">$11.73</span>\n",
      "<span class=\"kv__value kv__secondary no-value\"></span>\n",
      "</li>, <li class=\"kv__item\">\n",
      "<small class=\"kv__label\">Yield</small>\n",
      "<span class=\"kv__value kv__primary\">1.32%</span>\n",
      "<span class=\"kv__value kv__secondary no-value\"></span>\n",
      "</li>, <li class=\"kv__item\">\n",
      "<small class=\"kv__label\">Dividend</small>\n",
      "<span class=\"kv__value kv__primary\">$0.77</span>\n",
      "<span class=\"kv__value kv__secondary no-value\"></span>\n",
      "</li>, <li class=\"kv__item\">\n",
      "<small class=\"kv__label\">Ex-Dividend Date</small>\n",
      "<span class=\"kv__value kv__primary\">Aug 9, 2019</span>\n",
      "<span class=\"kv__value kv__secondary no-value\"></span>\n",
      "</li>, <li class=\"kv__item\">\n",
      "<small class=\"kv__label\">Short Interest</small>\n",
      "<span class=\"kv__value kv__primary\">43.93M</span>\n",
      "<span class=\"kv__value kv__secondary\">09/30/19</span>\n",
      "</li>, <li class=\"kv__item\">\n",
      "<small class=\"kv__label\">% of Float Shorted</small>\n",
      "<span class=\"kv__value kv__primary\">0.97%</span>\n",
      "<span class=\"kv__value kv__secondary no-value\"></span>\n",
      "</li>, <li class=\"kv__item\">\n",
      "<small class=\"kv__label\">Average Volume</small>\n",
      "<span class=\"kv__value kv__primary\">28.17M</span>\n",
      "<span class=\"kv__value kv__secondary no-value\"></span>\n",
      "</li>]\n",
      "<class 'bs4.element.ResultSet'>\n"
     ]
    }
   ],
   "source": [
    "# find all elements with the tag \"li\" and class_=\"kv__item\"\n",
    "key_data=results_page.find_all('li',class_=\"kv__item\")\n",
    "\n",
    "# print the data type for the kv_data object\n",
    "print(key_data)\n",
    "print(type(key_data))\n"
   ]
  },
  {
   "cell_type": "markdown",
   "metadata": {},
   "source": [
    "d. The code to answer the above question should have returned a list.  Print the first item in this list.  You should get:\n",
    "```\n",
    "<li class=\"kv__item\">\n",
    "<small class=\"kv__label\">Open</small>\n",
    "<span class=\"kv__value kv__primary \">$188.75</span>\n",
    "<span class=\"kv__value kv__secondary no-value\"></span>\n",
    "</li>\n",
    "```"
   ]
  },
  {
   "cell_type": "code",
   "execution_count": 19,
   "metadata": {},
   "outputs": [
    {
     "data": {
      "text/plain": [
       "<li class=\"kv__item\">\n",
       "<small class=\"kv__label\">Open</small>\n",
       "<span class=\"kv__value kv__primary\">$233.37</span>\n",
       "<span class=\"kv__value kv__secondary no-value\"></span>\n",
       "</li>"
      ]
     },
     "execution_count": 19,
     "metadata": {},
     "output_type": "execute_result"
    }
   ],
   "source": [
    "# print the first item in the list you generated above\n",
    "key_data[0]"
   ]
  },
  {
   "cell_type": "markdown",
   "metadata": {},
   "source": [
    "From the object shown above, extract the label \"Open\" and the value \"$188.75\"\n",
    "\n",
    "Note:  values will differ."
   ]
  },
  {
   "cell_type": "code",
   "execution_count": 27,
   "metadata": {},
   "outputs": [
    {
     "name": "stdout",
     "output_type": "stream",
     "text": [
      "Open\n",
      "$233.37\n"
     ]
    }
   ],
   "source": [
    "# extract the label \n",
    "stock_label=key_data[0].find(\"small\").get_text()\n",
    "# extract the value\n",
    "stock_value=key_data[0].find('span').get_text()\n",
    "\n",
    "# print the results\n",
    "print(stock_label)\n",
    "print(stock_value)"
   ]
  },
  {
   "cell_type": "markdown",
   "metadata": {},
   "source": [
    "e.  We need to be able to extract the text for each of the items in the key_data object.  Write a for loop to extract the label and primary value creating a list of the form [(label, value), (label,value),...]"
   ]
  },
  {
   "cell_type": "code",
   "execution_count": 29,
   "metadata": {},
   "outputs": [
    {
     "name": "stdout",
     "output_type": "stream",
     "text": [
      "[('Open', '$233.37'), ('Day Range', '233.20 - 235.24'), ('52 Week Range', '142.00 - 238.13'), ('Market Cap', '$1.06T'), ('Shares Outstanding', '4.6B'), ('Public Float', '4.51B'), ('Beta', '1.24'), ('Rev. per Employee', '$1.98M'), ('P/E Ratio', '19.95'), ('EPS', '$11.73'), ('Yield', '1.32%'), ('Dividend', '$0.77'), ('Ex-Dividend Date', 'Aug 9, 2019'), ('Short Interest', '43.93M'), ('% of Float Shorted', '0.97%'), ('Average Volume', '28.17M')]\n"
     ]
    }
   ],
   "source": [
    "# initialize an empty list\n",
    "kd_list=[]\n",
    "# loop over the items obtained in the key_data object extracting the label and value from each\n",
    "for i in key_data:\n",
    "    stock_label = i.find('small').get_text()\n",
    "    stock_value = i.find('span').get_text()\n",
    "    kd_list.append((stock_label,stock_value))\n",
    "\n",
    "\n",
    "# print the result\n",
    "print(kd_list)"
   ]
  },
  {
   "cell_type": "markdown",
   "metadata": {},
   "source": [
    "f. Optional Challenge:  \n",
    "\n",
    "Combine all of the above into a function that accepts a stock symbol as an argument and returns the list of (label, value) pairs.  "
   ]
  },
  {
   "cell_type": "code",
   "execution_count": 37,
   "metadata": {},
   "outputs": [],
   "source": [
    "def get_key_data(symbol):\n",
    "    kd_list=[]\n",
    "    import requests\n",
    "    from bs4 import BeautifulSoup\n",
    "    url=\"https://www.marketwatch.com/investing/stock/\"+symbol\n",
    "    reponse=requests.get(url)\n",
    "    if not response.status_code==200:\n",
    "        return None\n",
    "    try:\n",
    "        results_page=BeautifulSoup(response.content,'lxml')\n",
    "        key_data=results_page.find_all('li',class_=\"kv__label\")\n",
    "        for kv_item in key_data:\n",
    "            label=kv_item.find('small',class_=\"kv__label\").get_text()\n",
    "            value=kv_item.find('span',class_='kv__primary').get_text()\n",
    "            kd_list.append((label,value))\n",
    "        return kd_list\n",
    "    except:\n",
    "        return None\n",
    "            "
   ]
  },
  {
   "cell_type": "markdown",
   "metadata": {},
   "source": [
    "Run the function"
   ]
  },
  {
   "cell_type": "code",
   "execution_count": 38,
   "metadata": {},
   "outputs": [],
   "source": [
    "results = get_key_data(\"aapl\")"
   ]
  },
  {
   "cell_type": "markdown",
   "metadata": {},
   "source": [
    "g. Optional:\n",
    "\n",
    "Use pandas to create a dataframe from the data you extracted. "
   ]
  },
  {
   "cell_type": "code",
   "execution_count": 39,
   "metadata": {},
   "outputs": [
    {
     "data": {
      "text/html": [
       "<div>\n",
       "<style scoped>\n",
       "    .dataframe tbody tr th:only-of-type {\n",
       "        vertical-align: middle;\n",
       "    }\n",
       "\n",
       "    .dataframe tbody tr th {\n",
       "        vertical-align: top;\n",
       "    }\n",
       "\n",
       "    .dataframe thead th {\n",
       "        text-align: right;\n",
       "    }\n",
       "</style>\n",
       "<table border=\"1\" class=\"dataframe\">\n",
       "  <thead>\n",
       "    <tr style=\"text-align: right;\">\n",
       "      <th></th>\n",
       "    </tr>\n",
       "  </thead>\n",
       "  <tbody>\n",
       "  </tbody>\n",
       "</table>\n",
       "</div>"
      ],
      "text/plain": [
       "Empty DataFrame\n",
       "Columns: []\n",
       "Index: []"
      ]
     },
     "execution_count": 39,
     "metadata": {},
     "output_type": "execute_result"
    }
   ],
   "source": [
    "import pandas as pd\n",
    "pd.DataFrame(results)"
   ]
  },
  {
   "cell_type": "code",
   "execution_count": null,
   "metadata": {},
   "outputs": [],
   "source": []
  }
 ],
 "metadata": {
  "kernelspec": {
   "display_name": "Python 3",
   "language": "python",
   "name": "python3"
  },
  "language_info": {
   "codemirror_mode": {
    "name": "ipython",
    "version": 3
   },
   "file_extension": ".py",
   "mimetype": "text/x-python",
   "name": "python",
   "nbconvert_exporter": "python",
   "pygments_lexer": "ipython3",
   "version": "3.7.3"
  }
 },
 "nbformat": 4,
 "nbformat_minor": 2
}
